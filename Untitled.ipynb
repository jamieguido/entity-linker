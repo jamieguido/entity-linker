{
 "cells": [
  {
   "cell_type": "code",
   "execution_count": 100,
   "id": "51af95fb",
   "metadata": {},
   "outputs": [],
   "source": [
    "import spacy\n",
    "from spacy.kb import KnowledgeBase\n",
    "vocab = nlp.vocab\n",
    "from pathlib import Path\n",
    "\n",
    "def main():\n",
    "    load_entities()\n",
    "    create_kb()"
   ]
  },
  {
   "cell_type": "code",
   "execution_count": 101,
   "id": "88954cc5",
   "metadata": {},
   "outputs": [],
   "source": [
    "def load_entities():\n",
    "    dir = Path.cwd().parent / \"Summer Research\"\n",
    "    entities_csv = dir / \"entities.csv\"\n",
    "    \n",
    "    entities = dict()\n",
    "    descrs = dict()\n",
    "    entity_reader = open(entities_csv, 'r')\n",
    "    for line in entity_reader:\n",
    "        line = line.split(',')\n",
    "        qid = line[0]\n",
    "        name = line[1]\n",
    "        description = line[2]\n",
    "        entities[qid] = name\n",
    "        descrs[qid] = description\n",
    "                            \n",
    "    return entities, descrs"
   ]
  },
  {
   "cell_type": "code",
   "execution_count": 102,
   "id": "efe574b4",
   "metadata": {},
   "outputs": [
    {
     "ename": "ValueError",
     "evalue": "[E132] The vectors for entities and probabilities for alias 'Zooey Deschanel' should have equal length, but found 8 and 1 respectively.",
     "output_type": "error",
     "traceback": [
      "\u001b[0;31m---------------------------------------------------------------------------\u001b[0m",
      "\u001b[0;31mValueError\u001b[0m                                Traceback (most recent call last)",
      "\u001b[0;32m<ipython-input-102-a81375263ae4>\u001b[0m in \u001b[0;36m<module>\u001b[0;34m\u001b[0m\n\u001b[1;32m     30\u001b[0m \u001b[0;34m\u001b[0m\u001b[0m\n\u001b[1;32m     31\u001b[0m \u001b[0;34m\u001b[0m\u001b[0m\n\u001b[0;32m---> 32\u001b[0;31m \u001b[0mmain\u001b[0m\u001b[0;34m(\u001b[0m\u001b[0;34m)\u001b[0m\u001b[0;34m\u001b[0m\u001b[0;34m\u001b[0m\u001b[0m\n\u001b[0m",
      "\u001b[0;32m<ipython-input-100-e08c3c02ed8f>\u001b[0m in \u001b[0;36mmain\u001b[0;34m()\u001b[0m\n\u001b[1;32m      6\u001b[0m \u001b[0;32mdef\u001b[0m \u001b[0mmain\u001b[0m\u001b[0;34m(\u001b[0m\u001b[0;34m)\u001b[0m\u001b[0;34m:\u001b[0m\u001b[0;34m\u001b[0m\u001b[0;34m\u001b[0m\u001b[0m\n\u001b[1;32m      7\u001b[0m     \u001b[0mload_entities\u001b[0m\u001b[0;34m(\u001b[0m\u001b[0;34m)\u001b[0m\u001b[0;34m\u001b[0m\u001b[0;34m\u001b[0m\u001b[0m\n\u001b[0;32m----> 8\u001b[0;31m     \u001b[0mcreate_kb\u001b[0m\u001b[0;34m(\u001b[0m\u001b[0;34m)\u001b[0m\u001b[0;34m\u001b[0m\u001b[0;34m\u001b[0m\u001b[0m\n\u001b[0m",
      "\u001b[0;32m<ipython-input-102-a81375263ae4>\u001b[0m in \u001b[0;36mcreate_kb\u001b[0;34m()\u001b[0m\n\u001b[1;32m     16\u001b[0m     \u001b[0;31m#establish aliases for qids\u001b[0m\u001b[0;34m\u001b[0m\u001b[0;34m\u001b[0m\u001b[0;34m\u001b[0m\u001b[0m\n\u001b[1;32m     17\u001b[0m     \u001b[0;32mfor\u001b[0m \u001b[0mqid\u001b[0m\u001b[0;34m,\u001b[0m \u001b[0mname\u001b[0m \u001b[0;32min\u001b[0m \u001b[0mentity_dict\u001b[0m\u001b[0;34m.\u001b[0m\u001b[0mitems\u001b[0m\u001b[0;34m(\u001b[0m\u001b[0;34m)\u001b[0m\u001b[0;34m:\u001b[0m\u001b[0;34m\u001b[0m\u001b[0;34m\u001b[0m\u001b[0m\n\u001b[0;32m---> 18\u001b[0;31m         \u001b[0mkb\u001b[0m\u001b[0;34m.\u001b[0m\u001b[0madd_alias\u001b[0m\u001b[0;34m(\u001b[0m\u001b[0malias\u001b[0m\u001b[0;34m=\u001b[0m\u001b[0mname\u001b[0m\u001b[0;34m,\u001b[0m \u001b[0mentities\u001b[0m\u001b[0;34m=\u001b[0m\u001b[0mqid\u001b[0m\u001b[0;34m,\u001b[0m \u001b[0mprobabilities\u001b[0m\u001b[0;34m=\u001b[0m\u001b[0;34m[\u001b[0m\u001b[0;36m1\u001b[0m\u001b[0;34m]\u001b[0m\u001b[0;34m)\u001b[0m\u001b[0;34m\u001b[0m\u001b[0;34m\u001b[0m\u001b[0m\n\u001b[0m\u001b[1;32m     19\u001b[0m \u001b[0;34m\u001b[0m\u001b[0m\n\u001b[1;32m     20\u001b[0m     \u001b[0mprobs\u001b[0m \u001b[0;34m=\u001b[0m \u001b[0;34m[\u001b[0m\u001b[0;36m0.16\u001b[0m \u001b[0;32mfor\u001b[0m \u001b[0mqid\u001b[0m \u001b[0;32min\u001b[0m \u001b[0mqids\u001b[0m\u001b[0;34m]\u001b[0m\u001b[0;34m\u001b[0m\u001b[0;34m\u001b[0m\u001b[0m\n",
      "\u001b[0;32mkb.pyx\u001b[0m in \u001b[0;36mspacy.kb.KnowledgeBase.add_alias\u001b[0;34m()\u001b[0m\n",
      "\u001b[0;31mValueError\u001b[0m: [E132] The vectors for entities and probabilities for alias 'Zooey Deschanel' should have equal length, but found 8 and 1 respectively."
     ]
    }
   ],
   "source": [
    "def create_kb():\n",
    "    nlp = spacy.load(\"en_core_web_sm\")\n",
    "    text = \"Zooey Deschanel and Johnson made a great couple on the show New Girl.\"\n",
    "    doc = nlp(text)\n",
    "    entity_dict, descr_dict = load_entities()\n",
    "    kb = KnowledgeBase(vocab = vocab, entity_vector_length=96)\n",
    "    \n",
    "    for qid, descr in descr_dict.items():\n",
    "        #embed descriptions\n",
    "        descr_doc = nlp(descr)\n",
    "        #each entity encoded representing words in descr\n",
    "        descr_enc = descr_doc.vector\n",
    "        #add record to kb\n",
    "        kb.add_entity(entity = qid, entity_vector = descr_enc, freq = 100)\n",
    "        \n",
    "    #establish aliases for qids\n",
    "    for qid, name in entity_dict.items():\n",
    "        kb.add_alias(alias=name, entities=qid, probabilities=[1])\n",
    "    \n",
    "    probs = [0.16 for qid in qids]\n",
    "    kb.add_alias(alias = 'Johnson', entities = qid, probablities=probs)\n",
    "    \n",
    "    qids = entity_dict.keys()\n",
    "    print(f\"Entities in the KB: {kb.get_entity_strings()}\")\n",
    "    print(f\"Aliases in the KB: {kb.get_alias_strings()}\")\n",
    "    print()\n",
    "    print(f\"Candidates for 'Zooey Deschanel':{[c.entity_ for c in kb.get_candidates('Zooey Deschanel')]}\")\n",
    "    print(f\"Candidates for 'Johnson':{[c.entity_ for c in kb.get_candidates('Johnson')]}\")\n",
    "    #print(f\"Candidates for 'Jamie':{[c.entity_ for c in kb.get_candidates('Jamie')]}\"\")\n",
    "\n",
    "    \n",
    "main()"
   ]
  }
 ],
 "metadata": {
  "kernelspec": {
   "display_name": "Python 3",
   "language": "python",
   "name": "python3"
  },
  "language_info": {
   "codemirror_mode": {
    "name": "ipython",
    "version": 3
   },
   "file_extension": ".py",
   "mimetype": "text/x-python",
   "name": "python",
   "nbconvert_exporter": "python",
   "pygments_lexer": "ipython3",
   "version": "3.8.8"
  }
 },
 "nbformat": 4,
 "nbformat_minor": 5
}
